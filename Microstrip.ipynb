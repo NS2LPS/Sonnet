{
 "cells": [
  {
   "cell_type": "code",
   "execution_count": 1,
   "id": "3217b815-6a9d-4b96-9aff-0610353d4987",
   "metadata": {},
   "outputs": [],
   "source": [
    "import matplotlib.pyplot as plt\n",
    "import numpy as np\n",
    "import skrf as rf"
   ]
  },
  {
   "cell_type": "markdown",
   "id": "5bb54c2d-bf26-45ad-a664-4a7f39dd3b35",
   "metadata": {},
   "source": [
    "Name of the Sonnet file \"Microstrip_ref.son\". Sonnet generates s2p files for the different parameters which are sweeped."
   ]
  },
  {
   "cell_type": "code",
   "execution_count": 2,
   "id": "4012bf4f-a12c-4603-bbae-fa6f448549d5",
   "metadata": {},
   "outputs": [
    {
     "ename": "FileNotFoundError",
     "evalue": "[Errno 2] No such file or directory: '/1.s2p'",
     "output_type": "error",
     "traceback": [
      "\u001b[31m---------------------------------------------------------------------------\u001b[39m",
      "\u001b[31mFileNotFoundError\u001b[39m                         Traceback (most recent call last)",
      "\u001b[36mCell\u001b[39m\u001b[36m \u001b[39m\u001b[32mIn[2]\u001b[39m\u001b[32m, line 7\u001b[39m\n\u001b[32m      4\u001b[39m \u001b[38;5;28;01mfor\u001b[39;00m i \u001b[38;5;129;01min\u001b[39;00m \u001b[38;5;28mrange\u001b[39m(\u001b[32m1\u001b[39m,\u001b[32m6\u001b[39m):\n\u001b[32m      5\u001b[39m     \u001b[38;5;66;03m#file_name = path+f\"/Microstrip_ref_param{i:0}\"+\".s2p\"\u001b[39;00m\n\u001b[32m      6\u001b[39m     file_name =path+\u001b[33m\"\u001b[39m\u001b[33m/\u001b[39m\u001b[33m\"\u001b[39m+ \u001b[38;5;28mstr\u001b[39m(i)+\u001b[33m\"\u001b[39m\u001b[33m.s2p\u001b[39m\u001b[33m\"\u001b[39m\n\u001b[32m----> \u001b[39m\u001b[32m7\u001b[39m     MicroStrip.append(\u001b[43mrf\u001b[49m\u001b[43m.\u001b[49m\u001b[43mNetwork\u001b[49m\u001b[43m(\u001b[49m\u001b[43mfile_name\u001b[49m\u001b[43m)\u001b[49m)\n",
      "\u001b[36mFile \u001b[39m\u001b[32m/opt/tljh/user/lib/python3.12/site-packages/skrf/network.py:443\u001b[39m, in \u001b[36mNetwork.__init__\u001b[39m\u001b[34m(self, file, name, params, comments, f_unit, s_def, **kwargs)\u001b[39m\n\u001b[32m    438\u001b[39m     \u001b[38;5;28mself\u001b[39m.read_touchstone(file, \u001b[38;5;28mself\u001b[39m.encoding)\n\u001b[32m    440\u001b[39m \u001b[38;5;28;01melse\u001b[39;00m:\n\u001b[32m    441\u001b[39m     \u001b[38;5;66;03m# open file in 'binary' mode because we are going to try and\u001b[39;00m\n\u001b[32m    442\u001b[39m     \u001b[38;5;66;03m# unpickle it first\u001b[39;00m\n\u001b[32m--> \u001b[39m\u001b[32m443\u001b[39m     fid = \u001b[43mget_fid\u001b[49m\u001b[43m(\u001b[49m\u001b[43mfile\u001b[49m\u001b[43m,\u001b[49m\u001b[43m \u001b[49m\u001b[33;43m'\u001b[39;49m\u001b[33;43mrb\u001b[39;49m\u001b[33;43m'\u001b[39;49m\u001b[43m)\u001b[49m\n\u001b[32m    445\u001b[39m     \u001b[38;5;28;01mtry\u001b[39;00m:\n\u001b[32m    446\u001b[39m         \u001b[38;5;28mself\u001b[39m.read(fid)\n",
      "\u001b[36mFile \u001b[39m\u001b[32m/opt/tljh/user/lib/python3.12/site-packages/skrf/util.py:287\u001b[39m, in \u001b[36mget_fid\u001b[39m\u001b[34m(file, *args, **kwargs)\u001b[39m\n\u001b[32m    269\u001b[39m \u001b[38;5;250m\u001b[39m\u001b[33mr\u001b[39m\u001b[33;03m\"\"\"\u001b[39;00m\n\u001b[32m    270\u001b[39m \u001b[33;03mReturn a file object, given a filename or file object.\u001b[39;00m\n\u001b[32m    271\u001b[39m \n\u001b[32m   (...)\u001b[39m\u001b[32m    284\u001b[39m \n\u001b[32m    285\u001b[39m \u001b[33;03m\"\"\"\u001b[39;00m\n\u001b[32m    286\u001b[39m \u001b[38;5;28;01mif\u001b[39;00m \u001b[38;5;28misinstance\u001b[39m(file, (\u001b[38;5;28mstr\u001b[39m, Path)):\n\u001b[32m--> \u001b[39m\u001b[32m287\u001b[39m     \u001b[38;5;28;01mreturn\u001b[39;00m \u001b[38;5;28;43mopen\u001b[39;49m\u001b[43m(\u001b[49m\u001b[43mfile\u001b[49m\u001b[43m,\u001b[49m\u001b[43m \u001b[49m\u001b[43m*\u001b[49m\u001b[43margs\u001b[49m\u001b[43m,\u001b[49m\u001b[43m \u001b[49m\u001b[43m*\u001b[49m\u001b[43m*\u001b[49m\u001b[43mkwargs\u001b[49m\u001b[43m)\u001b[49m\n\u001b[32m    288\u001b[39m \u001b[38;5;28;01melse\u001b[39;00m:\n\u001b[32m    289\u001b[39m     \u001b[38;5;28;01mreturn\u001b[39;00m file\n",
      "\u001b[31mFileNotFoundError\u001b[39m: [Errno 2] No such file or directory: '/1.s2p'"
     ]
    }
   ],
   "source": [
    "path=\"\" \n",
    "\n",
    "MicroStrip = []\n",
    "for i in range(1,6): #example for 5 perameters\n",
    "    #file_name = path+f\"/Microstrip_ref_param{i:0}\"+\".s2p\"\n",
    "    file_name =path+\"/\"+ str(i)+\".s2p\"\n",
    "    MicroStrip.append(rf.Network(file_name))"
   ]
  },
  {
   "cell_type": "code",
   "execution_count": null,
   "id": "ecb9e20f-df3d-4b4f-a353-37fbaf0c11eb",
   "metadata": {},
   "outputs": [],
   "source": [
    "Param=[r'210 $\\mu m$',r'220 $\\mu m$',r'230 $\\mu m$',r'240 $\\mu m$',r'250 $\\mu m$']"
   ]
  },
  {
   "cell_type": "markdown",
   "id": "f5c13e1e-9efd-43d6-b8f1-b796c011a0ab",
   "metadata": {},
   "source": [
    "Plot the transmission in dB scale"
   ]
  },
  {
   "cell_type": "code",
   "execution_count": 3,
   "id": "24bce2c7-51db-4c48-b084-25b64f256834",
   "metadata": {},
   "outputs": [
    {
     "ename": "IndexError",
     "evalue": "list index out of range",
     "output_type": "error",
     "traceback": [
      "\u001b[31m---------------------------------------------------------------------------\u001b[39m",
      "\u001b[31mIndexError\u001b[39m                                Traceback (most recent call last)",
      "\u001b[36mCell\u001b[39m\u001b[36m \u001b[39m\u001b[32mIn[3]\u001b[39m\u001b[32m, line 2\u001b[39m\n\u001b[32m      1\u001b[39m \u001b[38;5;28;01mfor\u001b[39;00m i \u001b[38;5;129;01min\u001b[39;00m \u001b[38;5;28mrange\u001b[39m(\u001b[32m5\u001b[39m):\n\u001b[32m----> \u001b[39m\u001b[32m2\u001b[39m     \u001b[43mMicroStrip\u001b[49m\u001b[43m[\u001b[49m\u001b[43mi\u001b[49m\u001b[43m]\u001b[49m.plot_s_db(\u001b[32m0\u001b[39m,\u001b[32m0\u001b[39m, label=Param[i])\n",
      "\u001b[31mIndexError\u001b[39m: list index out of range"
     ]
    }
   ],
   "source": [
    "for i in range(5):\n",
    "    MicroStrip[i].plot_s_db(0,0, label=Param[i])"
   ]
  },
  {
   "cell_type": "markdown",
   "id": "deba1caa-e695-4a60-8850-3fa251d7862b",
   "metadata": {},
   "source": [
    "Plot the magnitude of the transmission "
   ]
  },
  {
   "cell_type": "code",
   "execution_count": 4,
   "id": "d44aed7e-524c-47ad-b11c-dd8e10ab7455",
   "metadata": {},
   "outputs": [
    {
     "ename": "IndexError",
     "evalue": "list index out of range",
     "output_type": "error",
     "traceback": [
      "\u001b[31m---------------------------------------------------------------------------\u001b[39m",
      "\u001b[31mIndexError\u001b[39m                                Traceback (most recent call last)",
      "\u001b[36mCell\u001b[39m\u001b[36m \u001b[39m\u001b[32mIn[4]\u001b[39m\u001b[32m, line 2\u001b[39m\n\u001b[32m      1\u001b[39m \u001b[38;5;28;01mfor\u001b[39;00m i \u001b[38;5;129;01min\u001b[39;00m \u001b[38;5;28mrange\u001b[39m(\u001b[32m4\u001b[39m):\n\u001b[32m----> \u001b[39m\u001b[32m2\u001b[39m     freq = \u001b[43mMicroStrip\u001b[49m\u001b[43m[\u001b[49m\u001b[43mi\u001b[49m\u001b[43m]\u001b[49m.frequency.f\n\u001b[32m      3\u001b[39m     plt.plot(\u001b[32m1e-9\u001b[39m*freq,np.abs(MicroStrip[i].s[:,\u001b[32m0\u001b[39m,\u001b[32m0\u001b[39m]), label=Param[i])\n\u001b[32m      4\u001b[39m     plt.legend(loc=\u001b[33m\"\u001b[39m\u001b[33mupper left\u001b[39m\u001b[33m\"\u001b[39m)\n",
      "\u001b[31mIndexError\u001b[39m: list index out of range"
     ]
    }
   ],
   "source": [
    "for i in range(4):\n",
    "    freq = MicroStrip[i].frequency.f\n",
    "    plt.plot(1e-9*freq,np.abs(MicroStrip[i].s[:,0,0]), label=Param[i])\n",
    "    plt.legend(loc=\"upper left\")\n",
    "    plt.xlabel(\"frequency (GHz)\")\n",
    "    plt.ylabel(\"$|S_{11}| (dB)$\")"
   ]
  },
  {
   "cell_type": "markdown",
   "id": "bd5fa022-5a41-4864-ba2f-991dbc41068b",
   "metadata": {},
   "source": [
    "Plot the phase of the transmission "
   ]
  },
  {
   "cell_type": "code",
   "execution_count": 5,
   "id": "764b90c6-dc00-4a70-aff3-813aed577d51",
   "metadata": {},
   "outputs": [
    {
     "ename": "IndexError",
     "evalue": "list index out of range",
     "output_type": "error",
     "traceback": [
      "\u001b[31m---------------------------------------------------------------------------\u001b[39m",
      "\u001b[31mIndexError\u001b[39m                                Traceback (most recent call last)",
      "\u001b[36mCell\u001b[39m\u001b[36m \u001b[39m\u001b[32mIn[5]\u001b[39m\u001b[32m, line 2\u001b[39m\n\u001b[32m      1\u001b[39m \u001b[38;5;28;01mfor\u001b[39;00m i \u001b[38;5;129;01min\u001b[39;00m \u001b[38;5;28mrange\u001b[39m(\u001b[32m4\u001b[39m):\n\u001b[32m----> \u001b[39m\u001b[32m2\u001b[39m     freq = \u001b[43mMicroStrip\u001b[49m\u001b[43m[\u001b[49m\u001b[43mi\u001b[49m\u001b[43m]\u001b[49m.frequency.f\n\u001b[32m      3\u001b[39m     plt.plot(\u001b[32m1e-9\u001b[39m*freq,(np.angle(MicroStrip[i].s[:,\u001b[32m0\u001b[39m,\u001b[32m1\u001b[39m])), label=Param[i])\n\u001b[32m      4\u001b[39m     plt.legend(loc=\u001b[33m\"\u001b[39m\u001b[33mupper left\u001b[39m\u001b[33m\"\u001b[39m)\n",
      "\u001b[31mIndexError\u001b[39m: list index out of range"
     ]
    }
   ],
   "source": [
    "for i in range(4):\n",
    "    freq = MicroStrip[i].frequency.f\n",
    "    plt.plot(1e-9*freq,(np.angle(MicroStrip[i].s[:,0,1])), label=Param[i])\n",
    "    plt.legend(loc=\"upper left\")\n",
    "    plt.xlabel(\"frequency (GHz)\")\n",
    "    plt.ylabel(\"$Arg(S_{11})$\")"
   ]
  },
  {
   "cell_type": "markdown",
   "id": "4633aebf-380e-40b4-a76a-5631fc3d9ed8",
   "metadata": {},
   "source": [
    "Plot the phase of the transmission "
   ]
  },
  {
   "cell_type": "code",
   "execution_count": 6,
   "id": "d8ef438a-fdd8-4c11-9a6c-bc0481463533",
   "metadata": {},
   "outputs": [
    {
     "ename": "IndexError",
     "evalue": "list index out of range",
     "output_type": "error",
     "traceback": [
      "\u001b[31m---------------------------------------------------------------------------\u001b[39m",
      "\u001b[31mIndexError\u001b[39m                                Traceback (most recent call last)",
      "\u001b[36mCell\u001b[39m\u001b[36m \u001b[39m\u001b[32mIn[6]\u001b[39m\u001b[32m, line 2\u001b[39m\n\u001b[32m      1\u001b[39m fig, axs = plt.subplots(\u001b[32m2\u001b[39m)\n\u001b[32m----> \u001b[39m\u001b[32m2\u001b[39m freq = \u001b[43mMicroStrip\u001b[49m\u001b[43m[\u001b[49m\u001b[32;43m2\u001b[39;49m\u001b[43m]\u001b[49m.frequency.f\n\u001b[32m      3\u001b[39m axs[\u001b[32m0\u001b[39m].plot(\u001b[32m1e-9\u001b[39m*freq,\u001b[32m10\u001b[39m*np.log(np.abs(MicroStrip[\u001b[32m2\u001b[39m].s[:,\u001b[32m0\u001b[39m,\u001b[32m0\u001b[39m])), label=Param[\u001b[32m2\u001b[39m])\n\u001b[32m      4\u001b[39m axs[\u001b[32m1\u001b[39m].plot(\u001b[32m1e-9\u001b[39m*freq,(np.angle(MicroStrip[\u001b[32m2\u001b[39m].s[:,\u001b[32m0\u001b[39m,\u001b[32m1\u001b[39m])), label=Param[\u001b[32m2\u001b[39m])  \n",
      "\u001b[31mIndexError\u001b[39m: list index out of range"
     ]
    },
    {
     "data": {
      "image/png": "[encoded data removed]",
      "text/plain": [
       "<Figure size 640x480 with 2 Axes>"
      ]
     },
     "metadata": {},
     "output_type": "display_data"
    }
   ],
   "source": [
    "fig, axs = plt.subplots(2)\n",
    "freq = MicroStrip[2].frequency.f\n",
    "axs[0].plot(1e-9*freq,10*np.log(np.abs(MicroStrip[2].s[:,0,0])), label=Param[2])\n",
    "axs[1].plot(1e-9*freq,(np.angle(MicroStrip[2].s[:,0,1])), label=Param[2])  \n",
    "axs[0].set(ylabel=\"$|S_{11}| (dB)$\")\n",
    "axs[1].set(xlabel=\"frequency (GHz)\", ylabel=\"$Arg S_{11}$\")"
   ]
  },
  {
   "cell_type": "markdown",
   "id": "4c824b0b-4e9c-4fab-a904-42bcf4b39f3d",
   "metadata": {},
   "source": [
    "Fit the phase to deduce the group velocity of the signal and the effective dielectric constant of the µ-strip line"
   ]
  },
  {
   "cell_type": "code",
   "execution_count": null,
   "id": "9d7a4f36-35c6-48a2-892a-0877f0d295fe",
   "metadata": {},
   "outputs": [],
   "source": [
    "L0=4e-3 # line length (between calibrated ports)\n",
    "freq = MicroStrip[0].frequency.f\n",
    "poly=np.polyfit(freq, np.angle(MicroStrip[0].s[:,0,1]), 1)\n",
    "v_g=(abs(2*np.pi*L0/poly[0]))\n",
    "epsilon_eff=v_g/3e8"
   ]
  },
  {
   "cell_type": "code",
   "execution_count": 7,
   "id": "c159606c-40f0-48fd-94f4-334f3a065afb",
   "metadata": {},
   "outputs": [
    {
     "ename": "NameError",
     "evalue": "name 'v_g' is not defined",
     "output_type": "error",
     "traceback": [
      "\u001b[31m---------------------------------------------------------------------------\u001b[39m",
      "\u001b[31mNameError\u001b[39m                                 Traceback (most recent call last)",
      "\u001b[36mCell\u001b[39m\u001b[36m \u001b[39m\u001b[32mIn[7]\u001b[39m\u001b[32m, line 1\u001b[39m\n\u001b[32m----> \u001b[39m\u001b[32m1\u001b[39m \u001b[38;5;28mprint\u001b[39m(\u001b[33m'\u001b[39m\u001b[33mgroupe velocity=\u001b[39m\u001b[33m'\u001b[39m + \u001b[38;5;28mstr\u001b[39m(np.round(\u001b[32m1e-8\u001b[39m*\u001b[43mv_g\u001b[49m,\u001b[32m2\u001b[39m)) +\u001b[33m'\u001b[39m\u001b[33me8 m/s\u001b[39m\u001b[33m'\u001b[39m)\n\u001b[32m      2\u001b[39m \u001b[38;5;28mprint\u001b[39m(\u001b[33m'\u001b[39m\u001b[38;5;130;01m\\\\\u001b[39;00m\u001b[33mepsilon_\u001b[39m\u001b[38;5;132;01m{eff}\u001b[39;00m\u001b[33m=\u001b[39m\u001b[33m'\u001b[39m + \u001b[38;5;28mstr\u001b[39m(np.round((\u001b[32m3e8\u001b[39m/v_g)**\u001b[32m2\u001b[39m,\u001b[32m2\u001b[39m)))\n",
      "\u001b[31mNameError\u001b[39m: name 'v_g' is not defined"
     ]
    }
   ],
   "source": [
    "print('groupe velocity=' + str(np.round(1e-8*v_g,2)) +'e8 m/s')\n",
    "print('\\\\epsilon_{eff}=' + str(np.round((3e8/v_g)**2,2)))"
   ]
  },
  {
   "cell_type": "code",
   "execution_count": null,
   "id": "f7a7a04d-4722-477f-a0ba-2d710f8292b2",
   "metadata": {},
   "outputs": [],
   "source": []
  },
  {
   "cell_type": "code",
   "execution_count": null,
   "id": "537d2e17-d2a9-47c8-99c3-8cd6656eb538",
   "metadata": {},
   "outputs": [],
   "source": []
  },
  {
   "cell_type": "code",
   "execution_count": null,
   "id": "e67a86e3-69c5-43f9-aedf-57944d754e53",
   "metadata": {},
   "outputs": [],
   "source": []
  },
  {
   "cell_type": "code",
   "execution_count": null,
   "id": "cb4411d6-12b8-446d-ad77-f9ddffb1278b",
   "metadata": {},
   "outputs": [],
   "source": []
  }
 ],
 "metadata": {
  "kernelspec": {
   "display_name": "Python 3 (ipykernel)",
   "language": "python",
   "name": "python3"
  },
  "language_info": {
   "codemirror_mode": {
    "name": "ipython",
    "version": 3
   },
   "file_extension": ".py",
   "mimetype": "text/x-python",
   "name": "python",
   "nbconvert_exporter": "python",
   "pygments_lexer": "ipython3",
   "version": "3.12.6"
  }
 },
 "nbformat": 4,
 "nbformat_minor": 5
}
