{
 "cells": [
  {
   "cell_type": "code",
   "execution_count": 3,
   "id": "5c15a115-6880-40e7-949f-56c395e47aca",
   "metadata": {},
   "outputs": [],
   "source": [
    "import matplotlib.pyplot as plt\n",
    "from matplotlib import rcParams\n",
    "import numpy as np\n",
    "import skrf as rf\n",
    "from scipy.optimize import curve_fit"
   ]
  },
  {
   "cell_type": "code",
   "execution_count": 4,
   "id": "d7404b55-ace9-48cf-bdd2-4aac898d4e38",
   "metadata": {},
   "outputs": [],
   "source": [
    "prop_cycle = rcParams['axes.prop_cycle']   \n",
    "colors = prop_cycle.by_key()['color']\n",
    "path=\"\"    "
   ]
  },
  {
   "cell_type": "markdown",
   "id": "02bb7e70-742e-494d-8e58-2efff0d9d024",
   "metadata": {},
   "source": [
    "Name of the Sonnet file \"Transmon_g.son\". Sonnet generates s2p files for the different gap parameters which are sweeped."
   ]
  },
  {
   "cell_type": "code",
   "execution_count": 5,
   "id": "2a8a6143-c57f-47e3-98a1-784f633815f5",
   "metadata": {},
   "outputs": [
    {
     "ename": "FileNotFoundError",
     "evalue": "[Errno 2] No such file or directory: 'Transmon_g_param1.s2p'",
     "output_type": "error",
     "traceback": [
      "\u001b[31m---------------------------------------------------------------------------\u001b[39m",
      "\u001b[31mFileNotFoundError\u001b[39m                         Traceback (most recent call last)",
      "\u001b[36mCell\u001b[39m\u001b[36m \u001b[39m\u001b[32mIn[5]\u001b[39m\u001b[32m, line 4\u001b[39m\n\u001b[32m      2\u001b[39m \u001b[38;5;28;01mfor\u001b[39;00m i \u001b[38;5;129;01min\u001b[39;00m \u001b[38;5;28mrange\u001b[39m(\u001b[32m1\u001b[39m,\u001b[32m5\u001b[39m): \u001b[38;5;66;03m#example with 4 different parmeters\u001b[39;00m\n\u001b[32m      3\u001b[39m     file_name = path+\u001b[33m\"\u001b[39m\u001b[33mTransmon_g_param\u001b[39m\u001b[33m\"\u001b[39m+\u001b[38;5;28mstr\u001b[39m(i)+\u001b[33m\"\u001b[39m\u001b[33m.s2p\u001b[39m\u001b[33m\"\u001b[39m\n\u001b[32m----> \u001b[39m\u001b[32m4\u001b[39m     Transmon.append(\u001b[43mrf\u001b[49m\u001b[43m.\u001b[49m\u001b[43mNetwork\u001b[49m\u001b[43m(\u001b[49m\u001b[43mfile_name\u001b[49m\u001b[43m)\u001b[49m)\n",
      "\u001b[36mFile \u001b[39m\u001b[32m/opt/tljh/user/lib/python3.12/site-packages/skrf/network.py:443\u001b[39m, in \u001b[36mNetwork.__init__\u001b[39m\u001b[34m(self, file, name, params, comments, f_unit, s_def, **kwargs)\u001b[39m\n\u001b[32m    438\u001b[39m     \u001b[38;5;28mself\u001b[39m.read_touchstone(file, \u001b[38;5;28mself\u001b[39m.encoding)\n\u001b[32m    440\u001b[39m \u001b[38;5;28;01melse\u001b[39;00m:\n\u001b[32m    441\u001b[39m     \u001b[38;5;66;03m# open file in 'binary' mode because we are going to try and\u001b[39;00m\n\u001b[32m    442\u001b[39m     \u001b[38;5;66;03m# unpickle it first\u001b[39;00m\n\u001b[32m--> \u001b[39m\u001b[32m443\u001b[39m     fid = \u001b[43mget_fid\u001b[49m\u001b[43m(\u001b[49m\u001b[43mfile\u001b[49m\u001b[43m,\u001b[49m\u001b[43m \u001b[49m\u001b[33;43m'\u001b[39;49m\u001b[33;43mrb\u001b[39;49m\u001b[33;43m'\u001b[39;49m\u001b[43m)\u001b[49m\n\u001b[32m    445\u001b[39m     \u001b[38;5;28;01mtry\u001b[39;00m:\n\u001b[32m    446\u001b[39m         \u001b[38;5;28mself\u001b[39m.read(fid)\n",
      "\u001b[36mFile \u001b[39m\u001b[32m/opt/tljh/user/lib/python3.12/site-packages/skrf/util.py:287\u001b[39m, in \u001b[36mget_fid\u001b[39m\u001b[34m(file, *args, **kwargs)\u001b[39m\n\u001b[32m    269\u001b[39m \u001b[38;5;250m\u001b[39m\u001b[33mr\u001b[39m\u001b[33;03m\"\"\"\u001b[39;00m\n\u001b[32m    270\u001b[39m \u001b[33;03mReturn a file object, given a filename or file object.\u001b[39;00m\n\u001b[32m    271\u001b[39m \n\u001b[32m   (...)\u001b[39m\u001b[32m    284\u001b[39m \n\u001b[32m    285\u001b[39m \u001b[33;03m\"\"\"\u001b[39;00m\n\u001b[32m    286\u001b[39m \u001b[38;5;28;01mif\u001b[39;00m \u001b[38;5;28misinstance\u001b[39m(file, (\u001b[38;5;28mstr\u001b[39m, Path)):\n\u001b[32m--> \u001b[39m\u001b[32m287\u001b[39m     \u001b[38;5;28;01mreturn\u001b[39;00m \u001b[38;5;28;43mopen\u001b[39;49m\u001b[43m(\u001b[49m\u001b[43mfile\u001b[49m\u001b[43m,\u001b[49m\u001b[43m \u001b[49m\u001b[43m*\u001b[49m\u001b[43margs\u001b[49m\u001b[43m,\u001b[49m\u001b[43m \u001b[49m\u001b[43m*\u001b[49m\u001b[43m*\u001b[49m\u001b[43mkwargs\u001b[49m\u001b[43m)\u001b[49m\n\u001b[32m    288\u001b[39m \u001b[38;5;28;01melse\u001b[39;00m:\n\u001b[32m    289\u001b[39m     \u001b[38;5;28;01mreturn\u001b[39;00m file\n",
      "\u001b[31mFileNotFoundError\u001b[39m: [Errno 2] No such file or directory: 'Transmon_g_param1.s2p'"
     ]
    }
   ],
   "source": [
    "Transmon = []\n",
    "for i in range(1,5): #example with 4 different parmeters\n",
    "    file_name = path+\"Transmon_g_param\"+str(i)+\".s2p\"\n",
    "    Transmon.append(rf.Network(file_name))"
   ]
  },
  {
   "cell_type": "code",
   "execution_count": null,
   "id": "921ef6ff-c1c3-41f6-ab60-3d152e601fbf",
   "metadata": {},
   "outputs": [],
   "source": [
    "freq=Transmon[0].frequency.f"
   ]
  },
  {
   "cell_type": "code",
   "execution_count": 6,
   "id": "b63f1bce-3edc-419d-af91-4b95247632c3",
   "metadata": {},
   "outputs": [],
   "source": [
    "Param=['5 $\\\\mu\\\\mathrm{m}$','15.8 $\\\\mu\\\\mathrm{m}$','50 $\\\\mu\\\\mathrm{m}$','158 $\\\\mu\\\\mathrm{m}$']\n",
    "gap=[5*10**0,5*10**0.5,5*10**1,5*10**1.5]"
   ]
  },
  {
   "cell_type": "markdown",
   "id": "fdc087af-87d5-4e12-975c-44da4a6fef9b",
   "metadata": {},
   "source": [
    "Plot the transmission in dB scale"
   ]
  },
  {
   "cell_type": "code",
   "execution_count": 7,
   "id": "840412af-67ea-4c7d-95c7-9af7ccdf7902",
   "metadata": {},
   "outputs": [
    {
     "ename": "IndexError",
     "evalue": "list index out of range",
     "output_type": "error",
     "traceback": [
      "\u001b[31m---------------------------------------------------------------------------\u001b[39m",
      "\u001b[31mIndexError\u001b[39m                                Traceback (most recent call last)",
      "\u001b[36mCell\u001b[39m\u001b[36m \u001b[39m\u001b[32mIn[7]\u001b[39m\u001b[32m, line 2\u001b[39m\n\u001b[32m      1\u001b[39m \u001b[38;5;28;01mfor\u001b[39;00m i \u001b[38;5;129;01min\u001b[39;00m \u001b[38;5;28mrange\u001b[39m(\u001b[32m4\u001b[39m):\n\u001b[32m----> \u001b[39m\u001b[32m2\u001b[39m     \u001b[43mTransmon\u001b[49m\u001b[43m[\u001b[49m\u001b[43mi\u001b[49m\u001b[43m]\u001b[49m.plot_s_db(\u001b[32m1\u001b[39m,\u001b[32m0\u001b[39m, label=Param[i])\n\u001b[32m      3\u001b[39m     plt.legend(loc=\u001b[33m\"\u001b[39m\u001b[33mupper left\u001b[39m\u001b[33m\"\u001b[39m)\n\u001b[32m      4\u001b[39m     plt.xlabel(\u001b[33m\"\u001b[39m\u001b[33mfrequency (GHz)\u001b[39m\u001b[33m\"\u001b[39m)\n",
      "\u001b[31mIndexError\u001b[39m: list index out of range"
     ]
    }
   ],
   "source": [
    "for i in range(4):\n",
    "    Transmon[i].plot_s_db(1,0, label=Param[i])\n",
    "    plt.legend(loc=\"upper left\")\n",
    "    plt.xlabel(\"frequency (GHz)\")\n",
    "    plt.ylabel(\"$|S_{21}| (dB)$\")"
   ]
  },
  {
   "cell_type": "markdown",
   "id": "1b993538-b14e-4c87-865a-b8542017faa3",
   "metadata": {},
   "source": [
    "Define the fitting fuction to measure the coupling Q-factor and the resonance frequency"
   ]
  },
  {
   "cell_type": "code",
   "execution_count": 8,
   "id": "dd68c77b-90d6-4af7-9f92-311030e8d322",
   "metadata": {},
   "outputs": [],
   "source": [
    "# Define the Lorantzienne function\n",
    "def Resonance(x,Qc,f0):\n",
    "    y = np.abs(1-1/(1+2*1j*Qc*((x-f0)/f0)))**2\n",
    "    return y"
   ]
  },
  {
   "cell_type": "code",
   "execution_count": 9,
   "id": "597aaec9-d3c5-455b-b620-c8c325003211",
   "metadata": {},
   "outputs": [],
   "source": [
    "Fit=np.zeros(shape=(4, 2))"
   ]
  },
  {
   "cell_type": "markdown",
   "id": "bca185fc-c77f-42bb-ba27-f409958561c7",
   "metadata": {},
   "source": [
    "To guess the initial values for the fit use the FWHM (Full width at half maximum)"
   ]
  },
  {
   "cell_type": "code",
   "execution_count": 10,
   "id": "0a362d08-210f-4bbf-9376-69fdb8478bb8",
   "metadata": {},
   "outputs": [
    {
     "ename": "NameError",
     "evalue": "name 'freq' is not defined",
     "output_type": "error",
     "traceback": [
      "\u001b[31m---------------------------------------------------------------------------\u001b[39m",
      "\u001b[31mNameError\u001b[39m                                 Traceback (most recent call last)",
      "\u001b[36mCell\u001b[39m\u001b[36m \u001b[39m\u001b[32mIn[10]\u001b[39m\u001b[32m, line 2\u001b[39m\n\u001b[32m      1\u001b[39m \u001b[38;5;28;01mfor\u001b[39;00m i \u001b[38;5;129;01min\u001b[39;00m \u001b[38;5;28mrange\u001b[39m(\u001b[32m4\u001b[39m):\n\u001b[32m----> \u001b[39m\u001b[32m2\u001b[39m     xdata=\u001b[32m1e-9\u001b[39m*\u001b[43mfreq\u001b[49m\n\u001b[32m      3\u001b[39m     ydata=np.abs(Transmon[i].s[:,\u001b[32m1\u001b[39m,\u001b[32m0\u001b[39m])**\u001b[32m2\u001b[39m\n\u001b[32m      4\u001b[39m     index = np.argmin(ydata)  \u001b[38;5;66;03m# Index of the minimum value\u001b[39;00m\n",
      "\u001b[31mNameError\u001b[39m: name 'freq' is not defined"
     ]
    }
   ],
   "source": [
    "for i in range(4):\n",
    "    xdata=1e-9*freq\n",
    "    ydata=np.abs(Transmon[i].s[:,1,0])**2\n",
    "    index = np.argmin(ydata)  # Index of the minimum value\n",
    "    min_value = ydata[index]  # Minimum value\n",
    "    ind = np.where(ydata < ((1+min_value)/2))[0]  # Find indices where ydata < A\n",
    "    if len(ind) > 0:  # Ensure there are valid indices\n",
    "        delta_f = abs(xdata[ind.max()] - xdata[ind.min()])\n",
    "    else:\n",
    "        delta_f = 0  # Handle the case where no indices satisfy the condition\n",
    "    Qc=xdata[index]/delta_f\n",
    "    #Qc=Qt/(1-min_value)\n",
    "    #Qi=(Qc*Qt)/(Qc-Qt)\n",
    "    init_vals = [ Qc, xdata[index]]  \n",
    "    Fit[i,:], covar =curve_fit(Resonance, xdata, ydata, p0=init_vals,bounds=(0, [ 1e6, 10]))"
   ]
  },
  {
   "cell_type": "code",
   "execution_count": 11,
   "id": "9b040ffe-80e9-4239-9cf6-1a75648aa72e",
   "metadata": {},
   "outputs": [
    {
     "ename": "NameError",
     "evalue": "name 'freq' is not defined",
     "output_type": "error",
     "traceback": [
      "\u001b[31m---------------------------------------------------------------------------\u001b[39m",
      "\u001b[31mNameError\u001b[39m                                 Traceback (most recent call last)",
      "\u001b[36mCell\u001b[39m\u001b[36m \u001b[39m\u001b[32mIn[11]\u001b[39m\u001b[32m, line 4\u001b[39m\n\u001b[32m      1\u001b[39m ind_zoom=\u001b[38;5;28mrange\u001b[39m(\u001b[32m2250\u001b[39m,\u001b[32m2750\u001b[39m)\n\u001b[32m      3\u001b[39m \u001b[38;5;28;01mfor\u001b[39;00m i \u001b[38;5;129;01min\u001b[39;00m \u001b[38;5;28mrange\u001b[39m(\u001b[32m4\u001b[39m):\n\u001b[32m----> \u001b[39m\u001b[32m4\u001b[39m  plt.plot(\u001b[32m1e-9\u001b[39m*\u001b[43mfreq\u001b[49m,np.abs(Transmon[i].s[:,\u001b[32m1\u001b[39m,\u001b[32m0\u001b[39m]), label=Param[i])\n\u001b[32m      5\u001b[39m  plt.legend(loc=\u001b[33m\"\u001b[39m\u001b[33mupper left\u001b[39m\u001b[33m\"\u001b[39m)\n\u001b[32m      6\u001b[39m  plt.xlabel(\u001b[33m\"\u001b[39m\u001b[33mfrequency (GHz)\u001b[39m\u001b[33m\"\u001b[39m)\n",
      "\u001b[31mNameError\u001b[39m: name 'freq' is not defined"
     ]
    }
   ],
   "source": [
    "ind_zoom=range(2250,2750)\n",
    "\n",
    "for i in range(4):\n",
    " plt.plot(1e-9*freq,np.abs(Transmon[i].s[:,1,0]), label=Param[i])\n",
    " plt.legend(loc=\"upper left\")\n",
    " plt.xlabel(\"frequency (GHz)\")\n",
    " plt.ylabel(\"$|S_{21}| (dB)$\")\n",
    "plt.plot(1e-9*freq,Resonance(xdata, Qc, xdata[index]),linestyle='dashed', \n",
    "     color='black', linewidth=1)"
   ]
  },
  {
   "cell_type": "code",
   "execution_count": 12,
   "id": "4fcabae2-fefa-4f62-a0cf-11f6883e2173",
   "metadata": {},
   "outputs": [
    {
     "ename": "NameError",
     "evalue": "name 'freq' is not defined",
     "output_type": "error",
     "traceback": [
      "\u001b[31m---------------------------------------------------------------------------\u001b[39m",
      "\u001b[31mNameError\u001b[39m                                 Traceback (most recent call last)",
      "\u001b[36mCell\u001b[39m\u001b[36m \u001b[39m\u001b[32mIn[12]\u001b[39m\u001b[32m, line 2\u001b[39m\n\u001b[32m      1\u001b[39m \u001b[38;5;28;01mfor\u001b[39;00m i \u001b[38;5;129;01min\u001b[39;00m \u001b[38;5;28mrange\u001b[39m(\u001b[32m4\u001b[39m):\n\u001b[32m----> \u001b[39m\u001b[32m2\u001b[39m  plt.plot(\u001b[32m1e-9\u001b[39m*\u001b[43mfreq\u001b[49m,np.unwrap((np.angle(Transmon[i].s[:,\u001b[32m1\u001b[39m,\u001b[32m0\u001b[39m]))), label=Param[i])\n\u001b[32m      3\u001b[39m  plt.legend(loc=\u001b[33m\"\u001b[39m\u001b[33mupper left\u001b[39m\u001b[33m\"\u001b[39m)\n\u001b[32m      4\u001b[39m  plt.xlabel(\u001b[33m\"\u001b[39m\u001b[33mfrequency (GHz)\u001b[39m\u001b[33m\"\u001b[39m)\n",
      "\u001b[31mNameError\u001b[39m: name 'freq' is not defined"
     ]
    }
   ],
   "source": [
    "for i in range(4):\n",
    " plt.plot(1e-9*freq,np.unwrap((np.angle(Transmon[i].s[:,1,0]))), label=Param[i])\n",
    " plt.legend(loc=\"upper left\")\n",
    " plt.xlabel(\"frequency (GHz)\")\n",
    " plt.ylabel(\"$Arg(S_{21})$\")"
   ]
  },
  {
   "cell_type": "markdown",
   "id": "5e07b039-66f2-44b7-81eb-88de8e8f2238",
   "metadata": {},
   "source": [
    "Plot the transmission in the complex space"
   ]
  },
  {
   "cell_type": "code",
   "execution_count": 13,
   "id": "c3b11395-e1c9-49f5-b8e8-562d50eba741",
   "metadata": {},
   "outputs": [
    {
     "ename": "IndexError",
     "evalue": "list index out of range",
     "output_type": "error",
     "traceback": [
      "\u001b[31m---------------------------------------------------------------------------\u001b[39m",
      "\u001b[31mIndexError\u001b[39m                                Traceback (most recent call last)",
      "\u001b[36mCell\u001b[39m\u001b[36m \u001b[39m\u001b[32mIn[13]\u001b[39m\u001b[32m, line 2\u001b[39m\n\u001b[32m      1\u001b[39m \u001b[38;5;28;01mfor\u001b[39;00m i \u001b[38;5;129;01min\u001b[39;00m \u001b[38;5;28mrange\u001b[39m(\u001b[32m4\u001b[39m):\n\u001b[32m----> \u001b[39m\u001b[32m2\u001b[39m  plt.plot((np.real(\u001b[43mTransmon\u001b[49m\u001b[43m[\u001b[49m\u001b[43mi\u001b[49m\u001b[43m]\u001b[49m.s[:,\u001b[32m1\u001b[39m,\u001b[32m0\u001b[39m])),(np.imag(Transmon[i].s[:,\u001b[32m1\u001b[39m,\u001b[32m0\u001b[39m])), label=Param[i])\n\u001b[32m      3\u001b[39m  plt.legend(loc=\u001b[33m\"\u001b[39m\u001b[33mupper left\u001b[39m\u001b[33m\"\u001b[39m)\n\u001b[32m      4\u001b[39m  plt.xlabel(\u001b[33m\"\u001b[39m\u001b[33m$Re(S_\u001b[39m\u001b[38;5;132;01m{21}\u001b[39;00m\u001b[33m)$\u001b[39m\u001b[33m\"\u001b[39m)\n",
      "\u001b[31mIndexError\u001b[39m: list index out of range"
     ]
    }
   ],
   "source": [
    "for i in range(4):\n",
    " plt.plot((np.real(Transmon[i].s[:,1,0])),(np.imag(Transmon[i].s[:,1,0])), label=Param[i])\n",
    " plt.legend(loc=\"upper left\")\n",
    " plt.xlabel(\"$Re(S_{21})$\")\n",
    " plt.ylabel(\"$Im(S_{21})$\")   \n",
    "ax = plt.gca() #you first need to get the axis handle\n",
    "ax.set_aspect(1) #sets the height to width ratio to 1.5. "
   ]
  },
  {
   "cell_type": "code",
   "execution_count": 14,
   "id": "10437528-49b2-4123-9a91-c8bb19dd60b8",
   "metadata": {},
   "outputs": [
    {
     "ename": "NameError",
     "evalue": "name 'xdata' is not defined",
     "output_type": "error",
     "traceback": [
      "\u001b[31m---------------------------------------------------------------------------\u001b[39m",
      "\u001b[31mNameError\u001b[39m                                 Traceback (most recent call last)",
      "\u001b[36mCell\u001b[39m\u001b[36m \u001b[39m\u001b[32mIn[14]\u001b[39m\u001b[32m, line 2\u001b[39m\n\u001b[32m      1\u001b[39m fig, axs = plt.subplots(\u001b[32m2\u001b[39m, \u001b[32m2\u001b[39m)\n\u001b[32m----> \u001b[39m\u001b[32m2\u001b[39m axs[\u001b[32m0\u001b[39m, \u001b[32m0\u001b[39m].plot(\u001b[43mxdata\u001b[49m,np.abs(Transmon[\u001b[32m0\u001b[39m].s[:,\u001b[32m1\u001b[39m,\u001b[32m0\u001b[39m])**\u001b[32m2\u001b[39m, color=colors[\u001b[32m0\u001b[39m])\n\u001b[32m      3\u001b[39m axs[\u001b[32m0\u001b[39m, \u001b[32m0\u001b[39m].set_title(Param[\u001b[32m0\u001b[39m])\n\u001b[32m      4\u001b[39m axs[\u001b[32m0\u001b[39m, \u001b[32m0\u001b[39m].plot(xdata,Resonance(xdata,Fit[\u001b[32m0\u001b[39m,\u001b[32m0\u001b[39m],Fit[\u001b[32m0\u001b[39m,\u001b[32m1\u001b[39m]),linestyle=\u001b[33m'\u001b[39m\u001b[33mdashed\u001b[39m\u001b[33m'\u001b[39m, \n\u001b[32m      5\u001b[39m      color=\u001b[33m'\u001b[39m\u001b[33mblack\u001b[39m\u001b[33m'\u001b[39m, linewidth=\u001b[32m1\u001b[39m)\n",
      "\u001b[31mNameError\u001b[39m: name 'xdata' is not defined"
     ]
    },
    {
     "data": {
      "image/png": "[encoded data removed]",
      "text/plain": [
       "<Figure size 640x480 with 4 Axes>"
      ]
     },
     "metadata": {},
     "output_type": "display_data"
    }
   ],
   "source": [
    "fig, axs = plt.subplots(2, 2)\n",
    "axs[0, 0].plot(xdata,np.abs(Transmon[0].s[:,1,0])**2, color=colors[0])\n",
    "axs[0, 0].set_title(Param[0])\n",
    "axs[0, 0].plot(xdata,Resonance(xdata,Fit[0,0],Fit[0,1]),linestyle='dashed', \n",
    "     color='black', linewidth=1)\n",
    "axs[0, 1].plot(xdata, np.abs(Transmon[1].s[:,1,0])**2, color=colors[1])\n",
    "axs[0, 1].set_title(Param[1])\n",
    "axs[0, 1].plot(xdata,Resonance(xdata,Fit[1,0],Fit[1,1]),linestyle='dashed', \n",
    "     color='black', linewidth=1)\n",
    "axs[1, 0].plot(xdata, np.abs(Transmon[2].s[:,1,0])**2, color=colors[2])\n",
    "axs[1, 0].set_title(Param[1])\n",
    "axs[1, 0].plot(xdata,Resonance(xdata,Fit[2,0],Fit[2,1]),linestyle='dashed', \n",
    "     color='black', linewidth=1)\n",
    "axs[1, 1].plot(xdata, np.abs(Transmon[3].s[:,1,0])**2, color=colors[3])\n",
    "axs[1, 1].set_title(Param[3])\n",
    "axs[1, 1].plot(xdata,Resonance(xdata,Fit[3,0],Fit[3,1]),linestyle='dashed', \n",
    "     color='black', linewidth=1)\n",
    "\n",
    "axs[0, 0].set( ylabel=\"$|S_{21}| (dB)$\")\n",
    "axs[1, 0].set( ylabel=\"$|S_{21}| (dB)$\")\n",
    "axs[1, 0].set(xlabel=\"frequency (GHz)\")\n",
    "axs[1, 1].set(xlabel=\"frequency (GHz)\")"
   ]
  },
  {
   "cell_type": "markdown",
   "id": "667c6a53-e157-419a-b4d3-fc77657df53d",
   "metadata": {},
   "source": [
    "Plot $Q_c$ and $f_0$ as a function of the gap distance"
   ]
  },
  {
   "cell_type": "code",
   "execution_count": 15,
   "id": "1a411463-adb9-4efb-8998-96b6827ec663",
   "metadata": {},
   "outputs": [
    {
     "name": "stderr",
     "output_type": "stream",
     "text": [
      "/tmp/ipykernel_23276/2793141229.py:14: UserWarning: Data has no positive values, and therefore cannot be log-scaled.\n",
      "  plt.tight_layout()\n"
     ]
    },
    {
     "data": {
      "image/png": "[encoded data removed]",
      "text/plain": [
       "<Figure size 800x400 with 2 Axes>"
      ]
     },
     "metadata": {},
     "output_type": "display_data"
    }
   ],
   "source": [
    "#fig6, axs6 = plt.subplots(1, 3)  # axs6 est un tableau 1D avec 3 éléments\n",
    "fig6, axs6 = plt.subplots(nrows=1, ncols=2, figsize=(8, 4))\n",
    "plt.tight_layout()\n",
    "axs6[0].loglog(gap,Fit[:, 0],linestyle='-', marker='o', color='b')\n",
    "axs6[1].semilogx(gap, Fit[:, 1],linestyle='-', marker='o', color='r')\n",
    "#axs6[2].semilogx(gap, Fit[:, 2],linestyle='-', marker='o', color='g')\n",
    "#axs6[2].set_ylim([8.05, 8.06])\n",
    "#axs6[0].set(xlabel=\"$gap (\\mu \\mathrm{m})$\")\n",
    "#axs6[0].set(ylabel=\"$Q_i$\")\n",
    "axs6[0].set(xlabel=\"$gap (\\\\mu \\\\mathrm{m})$\")\n",
    "axs6[0].set(ylabel=\"$Q_c$\")\n",
    "axs6[1].set(xlabel=\"$gap (\\\\mu \\\\mathrm{m})$\")\n",
    "axs6[1].set(ylabel=\"frequency (GHz)\")\n",
    "plt.tight_layout()"
   ]
  },
  {
   "cell_type": "code",
   "execution_count": null,
   "id": "c80e1814-752e-45a9-9d17-a70a7f1884a9",
   "metadata": {},
   "outputs": [],
   "source": []
  }
 ],
 "metadata": {
  "kernelspec": {
   "display_name": "Python 3 (ipykernel)",
   "language": "python",
   "name": "python3"
  },
  "language_info": {
   "codemirror_mode": {
    "name": "ipython",
    "version": 3
   },
   "file_extension": ".py",
   "mimetype": "text/x-python",
   "name": "python",
   "nbconvert_exporter": "python",
   "pygments_lexer": "ipython3",
   "version": "3.12.6"
  }
 },
 "nbformat": 4,
 "nbformat_minor": 5
}
