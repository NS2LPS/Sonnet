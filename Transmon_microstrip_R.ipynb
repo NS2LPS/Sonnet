{
 "cells": [
  {
   "cell_type": "code",
   "execution_count": 1,
   "id": "e27caca3-3fd0-4b3b-a213-ece65edf765f",
   "metadata": {},
   "outputs": [],
   "source": [
    "import matplotlib.pyplot as plt\n",
    "from matplotlib import rcParams\n",
    "import numpy as np\n",
    "import skrf as rf\n",
    "from scipy.optimize import curve_fit"
   ]
  },
  {
   "cell_type": "code",
   "execution_count": 2,
   "id": "537cc028-e332-4601-a3a6-0f0936158220",
   "metadata": {},
   "outputs": [],
   "source": [
    "prop_cycle = rcParams['axes.prop_cycle']   \n",
    "colors = prop_cycle.by_key()['color']"
   ]
  },
  {
   "cell_type": "code",
   "execution_count": 3,
   "id": "3db70794-38a6-439a-b051-3062ee7e28b4",
   "metadata": {},
   "outputs": [],
   "source": [
    "path=\"\" "
   ]
  },
  {
   "cell_type": "markdown",
   "id": "e8e0bcd7-b7d2-4ab8-b167-fe844e198e7b",
   "metadata": {},
   "source": [
    "Name of the Sonnet file \"Transmon_R.son\". Sonnet generates s2p files for the different resistance."
   ]
  },
  {
   "cell_type": "code",
   "execution_count": 4,
   "id": "0a1cf998-d3db-4c02-a344-4b6f9113c0e3",
   "metadata": {},
   "outputs": [],
   "source": [
    "Transmon = []\n",
    "for i in range(1,5):\n",
    "    file_name = path + \"Transmon_R_param\"+str(i)+\".s2p\"\n",
    "    Transmon.append(rf.Network(file_name))"
   ]
  },
  {
   "cell_type": "code",
   "execution_count": 5,
   "id": "7d247812-85af-4f50-ad3d-b440ca8e6dfc",
   "metadata": {},
   "outputs": [],
   "source": [
    "freq=Transmon[0].frequency.f"
   ]
  },
  {
   "cell_type": "markdown",
   "id": "b60d3872-bb2a-4e22-85d5-bfad29d1ece5",
   "metadata": {},
   "source": [
    "Define the different values of dissipation"
   ]
  },
  {
   "cell_type": "code",
   "execution_count": 6,
   "id": "8d2ee3f5-7ff9-4464-9e7f-1372f19d5d7f",
   "metadata": {},
   "outputs": [],
   "source": [
    "Param=['100 $\\\\mathrm{k}\\\\Omega$','1 $\\\\mathrm{M}\\\\Omega$','10 $\\\\mathrm{M}\\\\Omega$','100 $\\\\mathrm{M}\\\\Omega$']\n",
    "Res=[1e5,1e6,1e7,1e8]"
   ]
  },
  {
   "cell_type": "markdown",
   "id": "cb5ffd36-894e-4d77-82c5-adb4677c7a6d",
   "metadata": {},
   "source": [
    "Plot the transmission in dB scale"
   ]
  },
  {
   "cell_type": "code",
   "execution_count": 3,
   "id": "701980f6-094b-4850-8306-ed24ec1e3453",
   "metadata": {},
   "outputs": [
    {
     "ename": "NameError",
     "evalue": "name 'Transmon' is not defined",
     "output_type": "error",
     "traceback": [
      "\u001b[31m---------------------------------------------------------------------------\u001b[39m",
      "\u001b[31mNameError\u001b[39m                                 Traceback (most recent call last)",
      "\u001b[36mCell\u001b[39m\u001b[36m \u001b[39m\u001b[32mIn[3]\u001b[39m\u001b[32m, line 2\u001b[39m\n\u001b[32m      1\u001b[39m \u001b[38;5;28;01mfor\u001b[39;00m i \u001b[38;5;129;01min\u001b[39;00m \u001b[38;5;28mrange\u001b[39m(\u001b[32m4\u001b[39m):\n\u001b[32m----> \u001b[39m\u001b[32m2\u001b[39m     \u001b[43mTransmon\u001b[49m[i].plot_s_db(\u001b[32m1\u001b[39m,\u001b[32m0\u001b[39m, label=Param[i])\n\u001b[32m      3\u001b[39m     plt.legend(loc=\u001b[33m\"\u001b[39m\u001b[33mupper left\u001b[39m\u001b[33m\"\u001b[39m)\n\u001b[32m      4\u001b[39m     plt.xlabel(\u001b[33m\"\u001b[39m\u001b[33mfrequency (GHz)\u001b[39m\u001b[33m\"\u001b[39m)\n",
      "\u001b[31mNameError\u001b[39m: name 'Transmon' is not defined"
     ]
    }
   ],
   "source": [
    "for i in range(4):\n",
    "    Transmon[i].plot_s_db(1,0, label=Param[i])\n",
    "    plt.legend(loc=\"upper left\")\n",
    "    plt.xlabel(\"frequency (GHz)\")\n",
    "    plt.ylabel(\"$|S_{21}| (dB)$\")"
   ]
  },
  {
   "cell_type": "markdown",
   "id": "de709336-a657-49b2-89ab-8e17f58af90c",
   "metadata": {},
   "source": [
    "Define the fitting fuction to measure the coupling and intrinsec Q-factor  and the resonance frequency"
   ]
  },
  {
   "cell_type": "code",
   "execution_count": 4,
   "id": "0a3a7a75-09b8-4a88-a719-7a218151dee9",
   "metadata": {},
   "outputs": [],
   "source": [
    "def Resonance(x,Qi,Qc,f0):\n",
    "    y = np.abs(1-Qi/((Qi+Qc))*1/(1+2*1j*Qc*((x-f0)/f0)))**2\n",
    "    return y"
   ]
  },
  {
   "cell_type": "code",
   "execution_count": 5,
   "id": "5c71bb45-46e2-4774-b60d-d3a5bac82cd2",
   "metadata": {},
   "outputs": [],
   "source": [
    "Fit=np.zeros(shape=(4, 3))"
   ]
  },
  {
   "cell_type": "code",
   "execution_count": 6,
   "id": "2720fd10-25e5-475b-b4ce-3c573357ab61",
   "metadata": {},
   "outputs": [
    {
     "ename": "NameError",
     "evalue": "name 'freq' is not defined",
     "output_type": "error",
     "traceback": [
      "\u001b[31m---------------------------------------------------------------------------\u001b[39m",
      "\u001b[31mNameError\u001b[39m                                 Traceback (most recent call last)",
      "\u001b[36mCell\u001b[39m\u001b[36m \u001b[39m\u001b[32mIn[6]\u001b[39m\u001b[32m, line 2\u001b[39m\n\u001b[32m      1\u001b[39m \u001b[38;5;28;01mfor\u001b[39;00m i \u001b[38;5;129;01min\u001b[39;00m \u001b[38;5;28mrange\u001b[39m(\u001b[32m4\u001b[39m):\n\u001b[32m----> \u001b[39m\u001b[32m2\u001b[39m     xdata=\u001b[32m1e-9\u001b[39m*\u001b[43mfreq\u001b[49m\n\u001b[32m      3\u001b[39m     ydata=np.abs(Transmon[i].s[:,\u001b[32m1\u001b[39m,\u001b[32m0\u001b[39m])**\u001b[32m2\u001b[39m\n\u001b[32m      4\u001b[39m     index = np.argmin(ydata)  \u001b[38;5;66;03m# Index of the minimum value\u001b[39;00m\n",
      "\u001b[31mNameError\u001b[39m: name 'freq' is not defined"
     ]
    }
   ],
   "source": [
    "for i in range(4):\n",
    "    xdata=1e-9*freq\n",
    "    ydata=np.abs(Transmon[i].s[:,1,0])**2\n",
    "    index = np.argmin(ydata)  # Index of the minimum value\n",
    "    min_value = ydata[index]  # Minimum value\n",
    "    ind = np.where(ydata < ((1+min_value)/2))[0]  # Find indices where ydata < A\n",
    "    if len(ind) > 0:  # Ensure there are valid indices\n",
    "        delta_f = abs(xdata[ind.max()] - xdata[ind.min()])\n",
    "    else:\n",
    "        delta_f = 0  # Handle the case where no indices satisfy the condition\n",
    "    Qt=xdata[index]/delta_f\n",
    "    Qc=Qt/(1-min_value)\n",
    "    Qi=(Qc*Qt)/(Qc-Qt)\n",
    "    init_vals = [Qi, Qc, xdata[index]]  \n",
    "    Fit[i,:], covar =curve_fit(Resonance, xdata, ydata, p0=init_vals,bounds=(0, [1e9, 1e6, 10]))"
   ]
  },
  {
   "cell_type": "code",
   "execution_count": 7,
   "id": "3853bf4c-3900-4776-bf42-04b473546a81",
   "metadata": {},
   "outputs": [
    {
     "ename": "NameError",
     "evalue": "name 'freq' is not defined",
     "output_type": "error",
     "traceback": [
      "\u001b[31m---------------------------------------------------------------------------\u001b[39m",
      "\u001b[31mNameError\u001b[39m                                 Traceback (most recent call last)",
      "\u001b[36mCell\u001b[39m\u001b[36m \u001b[39m\u001b[32mIn[7]\u001b[39m\u001b[32m, line 2\u001b[39m\n\u001b[32m      1\u001b[39m \u001b[38;5;28;01mfor\u001b[39;00m i \u001b[38;5;129;01min\u001b[39;00m \u001b[38;5;28mrange\u001b[39m(\u001b[32m4\u001b[39m):\n\u001b[32m----> \u001b[39m\u001b[32m2\u001b[39m  plt.plot(\u001b[32m1e-9\u001b[39m*\u001b[43mfreq\u001b[49m,(np.angle(Transmon[i].s[:,\u001b[32m1\u001b[39m,\u001b[32m0\u001b[39m])), label=Param[i])\n\u001b[32m      3\u001b[39m  plt.legend(loc=\u001b[33m\"\u001b[39m\u001b[33mupper left\u001b[39m\u001b[33m\"\u001b[39m)\n\u001b[32m      4\u001b[39m  plt.xlabel(\u001b[33m\"\u001b[39m\u001b[33mfrequency (GHz)\u001b[39m\u001b[33m\"\u001b[39m)\n",
      "\u001b[31mNameError\u001b[39m: name 'freq' is not defined"
     ]
    }
   ],
   "source": [
    "for i in range(4):\n",
    " plt.plot(1e-9*freq,(np.angle(Transmon[i].s[:,1,0])), label=Param[i])\n",
    " plt.legend(loc=\"upper left\")\n",
    " plt.xlabel(\"frequency (GHz)\")\n",
    " plt.ylabel(\"$Arg(S_{21})$\")"
   ]
  },
  {
   "cell_type": "code",
   "execution_count": 8,
   "id": "2a119e94-7f38-4987-aec8-3ddcf9aa3459",
   "metadata": {},
   "outputs": [
    {
     "ename": "NameError",
     "evalue": "name 'Transmon' is not defined",
     "output_type": "error",
     "traceback": [
      "\u001b[31m---------------------------------------------------------------------------\u001b[39m",
      "\u001b[31mNameError\u001b[39m                                 Traceback (most recent call last)",
      "\u001b[36mCell\u001b[39m\u001b[36m \u001b[39m\u001b[32mIn[8]\u001b[39m\u001b[32m, line 2\u001b[39m\n\u001b[32m      1\u001b[39m \u001b[38;5;28;01mfor\u001b[39;00m i \u001b[38;5;129;01min\u001b[39;00m \u001b[38;5;28mrange\u001b[39m(\u001b[32m4\u001b[39m):\n\u001b[32m----> \u001b[39m\u001b[32m2\u001b[39m  plt.plot((np.real(\u001b[43mTransmon\u001b[49m[i].s[:,\u001b[32m1\u001b[39m,\u001b[32m0\u001b[39m])),(np.imag(Transmon[i].s[:,\u001b[32m1\u001b[39m,\u001b[32m0\u001b[39m])), label=Param[i])\n\u001b[32m      3\u001b[39m  plt.legend(loc=\u001b[33m\"\u001b[39m\u001b[33mupper left\u001b[39m\u001b[33m\"\u001b[39m)\n\u001b[32m      4\u001b[39m  plt.xlabel(\u001b[33m\"\u001b[39m\u001b[33m$Re(S_\u001b[39m\u001b[38;5;132;01m{21}\u001b[39;00m\u001b[33m)$\u001b[39m\u001b[33m\"\u001b[39m)\n",
      "\u001b[31mNameError\u001b[39m: name 'Transmon' is not defined"
     ]
    }
   ],
   "source": [
    "for i in range(4):\n",
    " plt.plot((np.real(Transmon[i].s[:,1,0])),(np.imag(Transmon[i].s[:,1,0])), label=Param[i])\n",
    " plt.legend(loc=\"upper left\")\n",
    " plt.xlabel(\"$Re(S_{21})$\")\n",
    " plt.ylabel(\"$Im(S_{21})$\")   \n",
    "ax = plt.gca() #you first need to get the axis handle\n",
    "ax.set_aspect(1) #sets the height to width ratio to 1.5. "
   ]
  },
  {
   "cell_type": "code",
   "execution_count": 9,
   "id": "6eb1d313-ba0d-42ff-a2b1-267ea19e1386",
   "metadata": {},
   "outputs": [
    {
     "ename": "NameError",
     "evalue": "name 'xdata' is not defined",
     "output_type": "error",
     "traceback": [
      "\u001b[31m---------------------------------------------------------------------------\u001b[39m",
      "\u001b[31mNameError\u001b[39m                                 Traceback (most recent call last)",
      "\u001b[36mCell\u001b[39m\u001b[36m \u001b[39m\u001b[32mIn[9]\u001b[39m\u001b[32m, line 2\u001b[39m\n\u001b[32m      1\u001b[39m fig, axs = plt.subplots(\u001b[32m2\u001b[39m, \u001b[32m2\u001b[39m)\n\u001b[32m----> \u001b[39m\u001b[32m2\u001b[39m axs[\u001b[32m0\u001b[39m, \u001b[32m0\u001b[39m].plot(\u001b[43mxdata\u001b[49m,np.abs(Transmon[\u001b[32m0\u001b[39m].s[:,\u001b[32m1\u001b[39m,\u001b[32m0\u001b[39m])**\u001b[32m2\u001b[39m, color=colors[\u001b[32m0\u001b[39m])\n\u001b[32m      3\u001b[39m axs[\u001b[32m0\u001b[39m, \u001b[32m0\u001b[39m].set_title(Param[\u001b[32m0\u001b[39m])\n\u001b[32m      4\u001b[39m axs[\u001b[32m0\u001b[39m, \u001b[32m0\u001b[39m].plot(xdata,Resonance(xdata,Fit[\u001b[32m0\u001b[39m,\u001b[32m0\u001b[39m],Fit[\u001b[32m0\u001b[39m,\u001b[32m1\u001b[39m],Fit[\u001b[32m0\u001b[39m,\u001b[32m2\u001b[39m]),linestyle=\u001b[33m'\u001b[39m\u001b[33mdashed\u001b[39m\u001b[33m'\u001b[39m, \n\u001b[32m      5\u001b[39m      color=\u001b[33m'\u001b[39m\u001b[33mblack\u001b[39m\u001b[33m'\u001b[39m, linewidth=\u001b[32m1\u001b[39m)\n",
      "\u001b[31mNameError\u001b[39m: name 'xdata' is not defined"
     ]
    },
    {
     "data": {
      "image/png": "[encoded data removed]",
      "text/plain": [
       "<Figure size 640x480 with 4 Axes>"
      ]
     },
     "metadata": {},
     "output_type": "display_data"
    }
   ],
   "source": [
    "fig, axs = plt.subplots(2, 2)\n",
    "axs[0, 0].plot(xdata,np.abs(Transmon[0].s[:,1,0])**2, color=colors[0])\n",
    "axs[0, 0].set_title(Param[0])\n",
    "axs[0, 0].plot(xdata,Resonance(xdata,Fit[0,0],Fit[0,1],Fit[0,2]),linestyle='dashed', \n",
    "     color='black', linewidth=1)\n",
    "axs[0, 1].plot(xdata, np.abs(Transmon[1].s[:,1,0])**2, color=colors[1])\n",
    "axs[0, 1].set_title(Param[1])\n",
    "axs[0, 1].plot(xdata,Resonance(xdata,Fit[1,0],Fit[1,1],Fit[1,2]),linestyle='dashed', \n",
    "     color='black', linewidth=1)\n",
    "axs[1, 0].plot(xdata, np.abs(Transmon[2].s[:,1,0])**2, color=colors[2])\n",
    "axs[1, 0].set_title(Param[1])\n",
    "axs[1, 0].plot(xdata,Resonance(xdata,Fit[2,0],Fit[2,1],Fit[2,2]),linestyle='dashed', \n",
    "     color='black', linewidth=1)\n",
    "axs[1, 1].plot(xdata, np.abs(Transmon[3].s[:,1,0])**2, color=colors[3])\n",
    "axs[1, 1].set_title(Param[3])\n",
    "axs[1, 1].plot(xdata,Resonance(xdata,Fit[3,0],Fit[3,1],Fit[3,2]),linestyle='dashed', \n",
    "     color='black', linewidth=1)\n",
    "\n",
    "axs[0, 0].set( ylabel=\"$|S_{21}| (dB)$\")\n",
    "axs[1, 0].set( ylabel=\"$|S_{21}| (dB)$\")\n",
    "axs[1, 0].set(xlabel=\"frequency (GHz)\")\n",
    "axs[1, 1].set(xlabel=\"frequency (GHz)\")\n",
    "plt.tight_layout()"
   ]
  },
  {
   "cell_type": "code",
   "execution_count": null,
   "id": "eea905ce-850c-4761-9806-770624b0457c",
   "metadata": {},
   "outputs": [],
   "source": [
    "Plot $Q_c$, $Q_i$ and $f_0$ as a function of the gap distance"
   ]
  },
  {
   "cell_type": "code",
   "execution_count": 10,
   "id": "e685a01e-3da5-4abc-853b-cff95740676d",
   "metadata": {},
   "outputs": [
    {
     "ename": "NameError",
     "evalue": "name 'Res' is not defined",
     "output_type": "error",
     "traceback": [
      "\u001b[31m---------------------------------------------------------------------------\u001b[39m",
      "\u001b[31mNameError\u001b[39m                                 Traceback (most recent call last)",
      "\u001b[36mCell\u001b[39m\u001b[36m \u001b[39m\u001b[32mIn[10]\u001b[39m\u001b[32m, line 4\u001b[39m\n\u001b[32m      2\u001b[39m fig6, axs6 = plt.subplots(nrows=\u001b[32m1\u001b[39m, ncols=\u001b[32m3\u001b[39m, figsize=(\u001b[32m8\u001b[39m, \u001b[32m4\u001b[39m))\n\u001b[32m      3\u001b[39m plt.tight_layout()\n\u001b[32m----> \u001b[39m\u001b[32m4\u001b[39m axs6[\u001b[32m0\u001b[39m].loglog(\u001b[43mRes\u001b[49m,Fit[:, \u001b[32m0\u001b[39m],linestyle=\u001b[33m'\u001b[39m\u001b[33m-\u001b[39m\u001b[33m'\u001b[39m, marker=\u001b[33m'\u001b[39m\u001b[33mo\u001b[39m\u001b[33m'\u001b[39m, color=\u001b[33m'\u001b[39m\u001b[33mb\u001b[39m\u001b[33m'\u001b[39m)\n\u001b[32m      5\u001b[39m axs6[\u001b[32m1\u001b[39m].semilogx(Res, Fit[:, \u001b[32m1\u001b[39m],linestyle=\u001b[33m'\u001b[39m\u001b[33m-\u001b[39m\u001b[33m'\u001b[39m, marker=\u001b[33m'\u001b[39m\u001b[33mo\u001b[39m\u001b[33m'\u001b[39m, color=\u001b[33m'\u001b[39m\u001b[33mr\u001b[39m\u001b[33m'\u001b[39m)\n\u001b[32m      6\u001b[39m axs6[\u001b[32m2\u001b[39m].semilogx(Res, Fit[:, \u001b[32m2\u001b[39m],linestyle=\u001b[33m'\u001b[39m\u001b[33m-\u001b[39m\u001b[33m'\u001b[39m, marker=\u001b[33m'\u001b[39m\u001b[33mo\u001b[39m\u001b[33m'\u001b[39m, color=\u001b[33m'\u001b[39m\u001b[33mg\u001b[39m\u001b[33m'\u001b[39m)\n",
      "\u001b[31mNameError\u001b[39m: name 'Res' is not defined"
     ]
    },
    {
     "data": {
      "image/png": "[encoded data removed]",
      "text/plain": [
       "<Figure size 800x400 with 3 Axes>"
      ]
     },
     "metadata": {},
     "output_type": "display_data"
    }
   ],
   "source": [
    "#fig6, axs6 = plt.subplots(1, 3)  # axs6 est un tableau 1D avec 3 éléments\n",
    "fig6, axs6 = plt.subplots(nrows=1, ncols=3, figsize=(8, 4))\n",
    "plt.tight_layout()\n",
    "axs6[0].loglog(Res,Fit[:, 0],linestyle='-', marker='o', color='b')\n",
    "axs6[1].semilogx(Res, Fit[:, 1],linestyle='-', marker='o', color='r')\n",
    "axs6[2].semilogx(Res, Fit[:, 2],linestyle='-', marker='o', color='g')\n",
    "axs6[2].set_ylim([8.05, 8.06])\n",
    "axs6[0].set(xlabel=\"$R (\\\\Omega)$\")\n",
    "axs6[0].set(ylabel=\"$Q_i$\")\n",
    "axs6[1].set(xlabel=\"$R (\\\\Omega)$\")\n",
    "axs6[1].set(ylabel=\"$Q_c$\")\n",
    "axs6[2].set(xlabel=\"$R (\\\\Omega)$\")\n",
    "axs6[2].set(ylabel=\"frequency (GHz)\")\n",
    "plt.tight_layout()"
   ]
  },
  {
   "cell_type": "code",
   "execution_count": null,
   "id": "59ba2f03-dc5c-4639-8f42-0fb2c05f9660",
   "metadata": {},
   "outputs": [],
   "source": []
  }
 ],
 "metadata": {
  "kernelspec": {
   "display_name": "Python 3 (ipykernel)",
   "language": "python",
   "name": "python3"
  },
  "language_info": {
   "codemirror_mode": {
    "name": "ipython",
    "version": 3
   },
   "file_extension": ".py",
   "mimetype": "text/x-python",
   "name": "python",
   "nbconvert_exporter": "python",
   "pygments_lexer": "ipython3",
   "version": "3.12.6"
  }
 },
 "nbformat": 4,
 "nbformat_minor": 5
}
